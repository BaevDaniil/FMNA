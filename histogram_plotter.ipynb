{
 "cells": [
  {
   "cell_type": "markdown",
   "metadata": {},
   "source": [
    "## Построение гистограмм"
   ]
  },
  {
   "cell_type": "markdown",
   "metadata": {},
   "source": [
    "## Загрузка пакетов"
   ]
  },
  {
   "cell_type": "code",
   "execution_count": 1,
   "metadata": {},
   "outputs": [],
   "source": [
    "import fmna.dataloader as dataloader\n",
    "import matplotlib.pyplot as plt\n",
    "import os"
   ]
  },
  {
   "cell_type": "markdown",
   "metadata": {},
   "source": [
    "## Настройка"
   ]
  },
  {
   "cell_type": "code",
   "execution_count": 2,
   "metadata": {},
   "outputs": [],
   "source": [
    "settings = {\n",
    "    \"path\": '../stress_preprocessed',\n",
    "    \"save_path\": '../histograms',\n",
    "    'plot': True\n",
    "}"
   ]
  },
  {
   "cell_type": "markdown",
   "metadata": {},
   "source": [
    "## Загрузка данных\n",
    "\n",
    "<b>Необходим предварительный запуск препроцессора</b>"
   ]
  },
  {
   "cell_type": "code",
   "execution_count": 36,
   "metadata": {},
   "outputs": [],
   "source": [
    "data = dataloader.loadData(settings['path'])"
   ]
  },
  {
   "cell_type": "markdown",
   "metadata": {},
   "source": [
    "## Построение гистограмм"
   ]
  },
  {
   "cell_type": "code",
   "execution_count": 25,
   "metadata": {},
   "outputs": [],
   "source": [
    "def plot_histogram(data, title, path):\n",
    "    fig, axs = plt.subplots()\n",
    "    axs.hist(data, bins=20)\n",
    "    fig.suptitle(title)\n",
    "    plt.savefig(path + os.sep + title + '.png')\n",
    "    plt.close()\n",
    "\n",
    "if not os.path.exists(settings['save_path']):\n",
    "    os.mkdir(settings['save_path'])\n",
    "for s in data:\n",
    "    sum = s[1].sum()\n",
    "    sum.to_csv(settings['save_path'] + os.sep + s[0]['file'], sep=';')\n",
    "    if settings['plot']:\n",
    "        plot_histogram(sum, s[0]['file'], settings['save_path'])\n",
    "\n",
    "    "
   ]
  },
  {
   "cell_type": "markdown",
   "metadata": {},
   "source": [
    "## Другой способ построить гистограммы\n",
    "\n",
    "P.S. Пока не красиво"
   ]
  },
  {
   "cell_type": "code",
   "execution_count": 44,
   "metadata": {},
   "outputs": [
    {
     "data": {
      "image/png": "[encoded data removed]",
      "text/plain": [
       "<Figure size 640x480 with 8 Axes>"
      ]
     },
     "metadata": {},
     "output_type": "display_data"
    }
   ],
   "source": [
    "animal = [x[0]['animal'] for x in data]\n",
    "animal = list(set(animal))\n",
    "\n",
    "subdata = [x for x in data if x[0]['animal'] == animal[0]]\n",
    "\n",
    "fig, axs = plt.subplots(len(subdata))\n",
    "\n",
    "for i, session in enumerate(subdata):\n",
    "    sum = session[1].sum()\n",
    "    axs[i].hist(sum, bins=20)\n"
   ]
  },
  {
   "cell_type": "code",
   "execution_count": null,
   "metadata": {},
   "outputs": [],
   "source": []
  }
 ],
 "metadata": {
  "kernelspec": {
   "display_name": "Python 3",
   "language": "python",
   "name": "python3"
  },
  "language_info": {
   "codemirror_mode": {
    "name": "ipython",
    "version": 3
   },
   "file_extension": ".py",
   "mimetype": "text/x-python",
   "name": "python",
   "nbconvert_exporter": "python",
   "pygments_lexer": "ipython3",
   "version": "3.8.19"
  }
 },
 "nbformat": 4,
 "nbformat_minor": 2
}
