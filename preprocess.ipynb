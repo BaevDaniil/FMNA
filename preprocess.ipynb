{
 "cells": [
  {
   "cell_type": "markdown",
   "metadata": {},
   "source": [
    "# Пример использование препроцессора"
   ]
  },
  {
   "cell_type": "markdown",
   "metadata": {},
   "source": [
    "## Загрузка пакетов"
   ]
  },
  {
   "cell_type": "code",
   "execution_count": 1,
   "metadata": {},
   "outputs": [],
   "source": [
    "import fmna.dataloader as dataloader\n",
    "import fmna.preprocessor as preprocessor"
   ]
  },
  {
   "cell_type": "markdown",
   "metadata": {},
   "source": [
    "## Задание настроек\n",
    "\n",
    "Настройки задаются как словарь для удобного дальнейшего использования\n",
    "\n",
    "- path: путь до папки с данными\n",
    "- pattern: шаблон для данных загрузки из папки (шаблон подпапок path в которых находятся архивы полученные из minian)\n",
    "- loading_data: список названий загружаемых архивов\n",
    "- meta: словарь для создания метаинформации (номер названия папки в pattern)\n",
    "    - session: название сессии\n",
    "    - animal: название животного\n",
    "    - Например: если данные загружены из папки <i>..\\stress\\mouse1\\right_after\\minian</i>, <i>session=-2</i>, <i>animal=-3</i>, то <i>right_after</i> будет распознано как название сессии, а <i>mouse1</i> - как название животного \n",
    "- save_path: путь для сохранения данных после препроцессинга"
   ]
  },
  {
   "cell_type": "code",
   "execution_count": 2,
   "metadata": {},
   "outputs": [],
   "source": [
    "settings = {\n",
    "    \"path\": \"..\\\\stress\\\\\",\n",
    "    \"pattern\": r\"mouse[0-9]+\\\\.*\\\\minian$\",\n",
    "    \"loading_data\": ['C'],\n",
    "    \"meta\": dict(session=-2, animal=-3),\n",
    "    \"save_path\" : \"..\\\\stress_preprocessed\"\n",
    "}"
   ]
  },
  {
   "cell_type": "markdown",
   "metadata": {},
   "source": [
    "## Загрузка данных"
   ]
  },
  {
   "cell_type": "code",
   "execution_count": 3,
   "metadata": {},
   "outputs": [],
   "source": [
    "data = dataloader.loadMinianData(settings['path'], settings['pattern'], settings['loading_data'], settings['meta'])"
   ]
  },
  {
   "cell_type": "markdown",
   "metadata": {},
   "source": [
    "## Препроцессинг \n",
    "\n",
    "Переводит сигналы (массив C в выводе minian) в pandas.DataFrame\n",
    "\n",
    "P.S. Вместо запуска через notebook можно запустить сам скрипт из консоли передав json файл для настройки "
   ]
  },
  {
   "cell_type": "code",
   "execution_count": 4,
   "metadata": {},
   "outputs": [],
   "source": [
    "signals = preprocessor.preprocessSignals(data, True)"
   ]
  },
  {
   "cell_type": "markdown",
   "metadata": {},
   "source": [
    "## Сохранение результата"
   ]
  },
  {
   "cell_type": "code",
   "execution_count": 5,
   "metadata": {},
   "outputs": [],
   "source": [
    "preprocessor.saveSignals(signals, settings['save_path'])"
   ]
  }
 ],
 "metadata": {
  "kernelspec": {
   "display_name": "Python 3",
   "language": "python",
   "name": "python3"
  },
  "language_info": {
   "codemirror_mode": {
    "name": "ipython",
    "version": 3
   },
   "file_extension": ".py",
   "mimetype": "text/x-python",
   "name": "python",
   "nbconvert_exporter": "python",
   "pygments_lexer": "ipython3",
   "version": "3.8.19"
  }
 },
 "nbformat": 4,
 "nbformat_minor": 2
}
